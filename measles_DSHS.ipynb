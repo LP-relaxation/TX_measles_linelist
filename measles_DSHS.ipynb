{
 "cells": [
  {
   "cell_type": "markdown",
   "id": "c939399b-c671-4d9b-948f-fe4d16da6ea1",
   "metadata": {},
   "source": [
    "# Estimating total number of measles cases\n",
    "\n",
    "Suppose the true/total number of log-symptomatic infections follows a random walk -- this means we have smooth exponential growth:\n",
    "$$\\log I_{t+1} = \\log I_t + \\epsilon_t, \\quad \\epsilon_t \\sim \\mathcal N(0, \\sigma^2)$$\n",
    "\n",
    "Let $\\rho$ be the reporting rate. Note that we have data on REPORTED cases $C^\\text{reported}_t$ from the linelist data:\n",
    "$$C^{\\text{reported}}_t \\sim \\text{Binomial}(I_t,  \\rho)$$ \n",
    "\n",
    "We can estimate $\\widehat{\\text{IHR}}$ (Infection Hospitalization Rate) based on literature (Lauren's advice and Saroj's comment).\n",
    "$$H_t \\sim \\text{Binomial}(I_{t-\\delta_0}, \\widehat{\\text{IHR}})$$\n",
    "where $\\delta_0$ is the incubation period (time from contracting the disease to displaying symptoms).\n",
    "\n",
    "We know that $\\text{IFR}$ (Infection Fatality Rate) is about $1$ in $1000$ to $3$ in $1000$.\n",
    "$$D_t \\sim \\text{Binomial}(I_{t-\\delta_1}, \\text{IFR})$$\n",
    "where $\\delta_1$ is the time that a person spends in the hospital before death."
   ]
  }
 ],
 "metadata": {
  "kernelspec": {
   "display_name": "Python 3 (ipykernel)",
   "language": "python",
   "name": "python3"
  },
  "language_info": {
   "codemirror_mode": {
    "name": "ipython",
    "version": 3
   },
   "file_extension": ".py",
   "mimetype": "text/x-python",
   "name": "python",
   "nbconvert_exporter": "python",
   "pygments_lexer": "ipython3",
   "version": "3.11.12"
  }
 },
 "nbformat": 4,
 "nbformat_minor": 5
}
